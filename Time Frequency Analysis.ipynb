{
 "cells": [
  {
   "cell_type": "markdown",
   "metadata": {},
   "source": [
    "# Time-Frequency Analysis"
   ]
  },
  {
   "cell_type": "markdown",
   "metadata": {},
   "source": [
    "#### The objective is to meticulously explore and dissect the intricate temporal and spectral characteristics of neural signals using advanced statistical methods. Through the utilization of the process_statsmatrix(statsmatrix) function and the subsequent visualization with plot_conditions(...), we find significant channels and significant time points for relax vs push conditions across emotionally charged stimuli."
   ]
  },
  {
   "cell_type": "code",
   "execution_count": 1,
   "metadata": {},
   "outputs": [],
   "source": [
    "import os\n",
    "from os.path import join\n",
    "\n",
    "import numpy as np \n",
    "\n",
    "from scipy.io import savemat, loadmat\n",
    "from scipy.stats import sem\n",
    "\n",
    "import matplotlib.pyplot as plt\n",
    "from mpl_toolkits.axes_grid1 import make_axes_locatable\n",
    "\n",
    "import mne\n",
    "from mne.time_frequency import tfr_morlet\n",
    "from mne.baseline import rescale\n"
   ]
  },
  {
   "cell_type": "markdown",
   "metadata": {},
   "source": [
    "### Load data for all conditions"
   ]
  },
  {
   "cell_type": "code",
   "execution_count": null,
   "metadata": {},
   "outputs": [],
   "source": [
    "positive_relax = np.load('../../data/Osheen_TF_data/relax_positive.npy', allow_pickle=True)\n",
    "positive_push = np.load('../../data/Osheen_TF_data/push_positive.npy', allow_pickle=True)\n",
    "\n",
    "negative_relax = np.load('../../data/Osheen_TF_data/relax_negative.npy', allow_pickle=True)\n",
    "negative_push = np.load('../../data/Osheen_TF_data/push_negative.npy', allow_pickle=True)\n",
    "\n",
    "neutral_relax = np.load('../../data/Osheen_TF_data/relax_neutral.npy', allow_pickle=True)\n",
    "neutral_push = np.load('../../data/Osheen_TF_data/push_neutral.npy', allow_pickle=True)\n",
    "\n",
    "relax_all = np.load('../../data/Osheen_TF_data/relax_all.npy', allow_pickle=True)\n",
    "push_all = np.load('../../data/Osheen_TF_data/push_all.npy', allow_pickle=True)\n",
    "\n",
    "time_vector = np.load('../../data/Osheen_TF_data/time_vector.npy', allow_pickle=True)\n",
    "\n",
    "channels_list = [\"Fp1\",\"AF7\", \"AF3\", \"F1\", \"F3\", \"F5\", \"F7\", \"FT7\", \"FC5\", \"FC3\", \"FC1\", \"C1\", \"C3\", \"C5\", \"T7\", \"TP7\", \"CP5\", \"CP3\", \"CP1\", \"P1\", \"P3\", \n",
    "                \"P5\",\"P7\",\"P9\",\"PO7\",\"PO3\",\"O1\",\"Iz\",\"Oz\",\"POz\",\"Pz\",\"CPz\",\"Fpz\",\"Fp2\",\"AF8\",\"AF4\",\"AFz\",\"Fz\",\"F2\",\"F4\",\"F6\",\"F8\",\"FT8\",\"FC6\",\"FC4\",\"FC2\",\"FCz\",\n",
    "                \"Cz\",\"C2\",\"C4\",\"C6\",\"T8\",\"TP8\",\"CP6\",\"CP4\",\"CP2\",\"P2\",\"P4\",\"P6\",\"P8\",\"P10\", \"PO8\", \"PO4\", \"O2\"]"
   ]
  },
  {
   "cell_type": "markdown",
   "metadata": {},
   "source": [
    "### Convert to MATLAB files"
   ]
  },
  {
   "cell_type": "code",
   "execution_count": null,
   "metadata": {},
   "outputs": [],
   "source": [
    "savemat('../../data/Osheen_TF_data/relax_positive.mat', {'data': positive_relax})\n",
    "savemat('../../data/Osheen_TF_data/push_positive.mat', {'data': positive_push})\n",
    "\n",
    "savemat('../../data/Osheen_TF_data/relax_negative.mat', {'data': negative_relax})\n",
    "savemat('../../data/Osheen_TF_data/push_negative.mat', {'data': negative_push})\n",
    "\n",
    "savemat('../../data/Osheen_TF_data/relax_neutral.mat', {'data': neutral_relax})\n",
    "savemat('../../data/Osheen_TF_data/push_neutral.mat', {'data': neutral_push})\n",
    "\n",
    "savemat('../../data/Osheen_TF_data/relax_all.mat', {'data': relax_all})\n",
    "savemat('../../data/Osheen_TF_data/push_all.mat', {'data': push_all})"
   ]
  },
  {
   "cell_type": "markdown",
   "metadata": {},
   "source": [
    "### Load statsmatrix for all conditions"
   ]
  },
  {
   "cell_type": "code",
   "execution_count": null,
   "metadata": {},
   "outputs": [],
   "source": [
    "statsmatrix_positive = loadmat('../../data/Osheen_TF_data/posstatsmatrix_positive.mat')['statsmatrix_pos']\n",
    "statsmatrix_negative = loadmat('../../data/Osheen_TF_data/posstatsmatrix_negative.mat')['statsmatrix_pos']\n",
    "statsmatrix_neutral = loadmat('../../data/Osheen_TF_data/posstatsmatrix_neutral.mat')['statsmatrix_pos']\n",
    "statsmatrix_all = loadmat('../../data/Osheen_TF_data/posstatsmatrix_all.mat')['statsmatrix_pos']"
   ]
  },
  {
   "cell_type": "markdown",
   "metadata": {},
   "source": [
    "# Topography\n",
    "\n",
    "### Plot topographical maps"
   ]
  },
  {
   "cell_type": "code",
   "execution_count": null,
   "metadata": {},
   "outputs": [],
   "source": [
    "tstart = 1 # in seconds\n",
    "tend = 3\n",
    "\n",
    "tstart_idx = np.where(time_vector >= tstart)[0][0]\n",
    "tend_idx = np.where(time_vector >= tend)[0][0]\n",
    "\n",
    "x_alpha = negative_push[:, :, 0, tstart_idx:tend_idx].mean(axis=0) - negative_relax[:, :, 0, tstart_idx:tend_idx].mean(axis=0) # difference in alpha and beta in sig. time-window only to highlight the difference in topo plot\n",
    "\n",
    "info = mne.create_info(ch_names=channels_list, sfreq=(negative_push.shape[-1]/5), ch_types='eeg') # make the new info object\n",
    "montage = mne.channels.make_standard_montage('biosemi64') # apply biosemi64 montage\n",
    "info.set_montage(montage)\n",
    "\n",
    "topo_evoked = mne.EvokedArray(x_alpha[:, None, :].mean(axis=-1), info, tmin=0, nave=negative_push.shape[0]) # average across time to show power for each channel\n",
    "mask = np.zeros(shape=(64, 1), dtype=bool)\n",
    "sig_channels = np.unique(np.where(statsmatrix_negative == 1)[0]) # 1 is the sig cluster (statsmatrix is from matlab)\n",
    "mask[sig_channels] = True\n",
    "\n",
    "fig, ax_topo = plt.subplots(1, 1, figsize=(12, 5))\n",
    "f = topo_evoked.plot_topomap(times=0, mask=mask, axes=ax_topo, cmap='Blues',\n",
    "                            show=False,\n",
    "                            colorbar=False, mask_params=dict(markersize=10), contours=4)\n",
    "image = ax_topo.images[0]\n",
    "    \n",
    "# create additional axes (for ERF and colorbar)\n",
    "divider = make_axes_locatable(ax_topo)\n",
    "\n",
    "# add axes for colorbar\n",
    "ax_colorbar = divider.append_axes('right', size='5%', pad=0.05)\n",
    "plt.colorbar(image, cax=ax_colorbar)\n",
    "ax_topo.set_xlabel('Averaged Response')"
   ]
  },
  {
   "cell_type": "markdown",
   "metadata": {},
   "source": [
    "### Find Significant Time Points and Channels across Alpha and Beta\n",
    "\n",
    "##### This function is meticulously designed to process the statistical matrix statsmatrix, which encapsulates information about neural activity across various channels and time points. The ultimate goal of this function is to identify significant neural activity patterns in specific frequency bands (alpha and beta) and extract relevant data for subsequent visualization and analysis."
   ]
  },
  {
   "cell_type": "code",
   "execution_count": null,
   "metadata": {},
   "outputs": [],
   "source": [
    "\n",
    "def process_statsmatrix(statsmatrix):\n",
    "\n",
    "    alpha_ch = []\n",
    "    beta_ch = []\n",
    "    \n",
    "    for n in range(0, statsmatrix.shape[0]):\n",
    "        ch_alpha = np.where(statsmatrix[n, 0, :] == 1)[0] # alpha\n",
    "        if ch_alpha.shape[0] > 0:\n",
    "            alpha_ch.append(n)\n",
    "\n",
    "        ch_beta = np.where(statsmatrix[n, 1, :] == 1)[0] # beta\n",
    "        if ch_beta.shape[0] > 0:\n",
    "            beta_ch.append(n)\n",
    "\n",
    "    sig_time_alpha = []\n",
    "    unique_sig_time_alpha = []\n",
    "\n",
    "    sig_time_beta = []\n",
    "    unique_sig_time_beta = []\n",
    "    \n",
    "    for n in range(0, statsmatrix.shape[0]):\n",
    "        sig_ch_alpha = np.where(statsmatrix[n, 0, :] == 1)[0] # alpha\n",
    "        sig_ch_beta = np.where(statsmatrix[n, -1, :] == 1)[0] # beta\n",
    "\n",
    "        if sig_ch_alpha.shape[0] > 0:\n",
    "            sig_time_alpha.append(sig_ch_alpha)\n",
    "            sig_time_beta.append(sig_ch_beta)\n",
    "\n",
    "            temp_alpha = np.concatenate(sig_time_alpha)\n",
    "            temp_beta = np.concatenate(sig_time_beta)\n",
    "\n",
    "            unique_sig_time_alpha.append(np.unique(temp_alpha))\n",
    "            if len(unique_sig_time_alpha) > 1:\n",
    "                unique_sig_time_alpha.pop(0)\n",
    "\n",
    "            unique_sig_time_beta.append(np.unique(temp_beta))\n",
    "            if len(unique_sig_time_beta) > 1:\n",
    "                unique_sig_time_beta.pop(0)\n",
    "    \n",
    "    return unique_sig_time_alpha, unique_sig_time_beta, alpha_ch, beta_ch\n",
    "\n"
   ]
  },
  {
   "cell_type": "markdown",
   "metadata": {},
   "source": [
    "### Plot Alpha and Beta plots"
   ]
  },
  {
   "cell_type": "code",
   "execution_count": null,
   "metadata": {},
   "outputs": [],
   "source": [
    "def plot_conditions(relax_condition, push_condition, plot_title, unique_sig_time_alpha, unique_sig_time_beta, alpha_ch, beta_ch):\n",
    "\n",
    "    # Define the time range for plotting\n",
    "    tstart = 1  # in seconds\n",
    "    tend = 3\n",
    "\n",
    "    # Find the indices corresponding to the time range\n",
    "    tstart_idx = np.where(time_vector >= tstart)[0][0]\n",
    "    tend_idx = np.where(time_vector >= tend)[0][0]\n",
    "\n",
    "    # Calculate mean alpha values for relax and push conditions\n",
    "    vi_alpha_relax = relax_condition[:, alpha_ch, 0, :].mean(axis=1)\n",
    "    vi_alpha_push = push_condition[:, alpha_ch, 0, :].mean(axis=1)\n",
    "\n",
    "    vi_beta_relax = relax_condition[:, beta_ch, 1, :].mean(axis=1)\n",
    "    vi_beta_push = push_condition[:, beta_ch, 1, :].mean(axis=1)\n",
    "\n",
    "    # Calculate standard error of the mean (SEM) for alpha values\n",
    "    vi_sem_relax_alpha = sem(vi_alpha_relax, axis=0)\n",
    "    vi_sem_push_alpha = sem(vi_alpha_push, axis=0)\n",
    "\n",
    "    vi_sem_relax_beta = sem(vi_beta_relax, axis=0)\n",
    "    vi_sem_push_beta = sem(vi_beta_push, axis=0)\n",
    "\n",
    "    # print(vi_sem_relax_alpha)\n",
    "    # print(vi_sem_push_alpha)\n",
    "\n",
    "    # print(vi_sem_relax_beta)\n",
    "    # print(vi_sem_push_beta)\n",
    "\n",
    "    #Alpha Plot\n",
    "    \n",
    "    plt.figure(figsize=(10.5, 5))\n",
    "    # Plot mean alpha values for push condition with shaded region\n",
    "    plt.plot(time_vector, vi_alpha_push.mean(axis=0), color='#aecdc2', label='Push alpha')\n",
    "    plt.fill_between(time_vector,\n",
    "                     vi_alpha_push.mean(axis=0) + vi_sem_push_alpha,\n",
    "                     vi_alpha_push.mean(axis=0) - vi_sem_push_alpha,\n",
    "                     color='#aecdc2', alpha=0.4)\n",
    "\n",
    "     # Plot mean alpha values for relax condition with shaded region\n",
    "    plt.plot(time_vector, vi_alpha_relax.mean(axis=0), color='#3e8f8c', label='Relax alpha')\n",
    "    plt.fill_between(time_vector,\n",
    "                     vi_alpha_relax.mean(axis=0) + vi_sem_relax_alpha,\n",
    "                     vi_alpha_relax.mean(axis=0) - vi_sem_relax_alpha,\n",
    "                     color='#3e8f8c', alpha=0.4)\n",
    "\n",
    "    # Add a vertical line at a specific time point\n",
    "    plt.axvline(time_vector[128], c='k')\n",
    "\n",
    "    plt.legend(loc='upper left')\n",
    "    plt.ylabel('ALPHA')\n",
    "\n",
    "    # Add horizontal bars to the plot\n",
    "    bar_height = np.min(vi_alpha_relax) * 0.30  # Height of the horizontal bar (5% of max voltage)\n",
    "    for index in unique_sig_time_alpha[0]:\n",
    "        plt.barh(np.min(vi_alpha_relax), width=0.005, left=time_vector[tstart_idx+index-1], height=bar_height, color='green', alpha=0.2)\n",
    "    \n",
    "    print(time_vector[tstart_idx+unique_sig_time_alpha[0][0]], time_vector[tstart_idx+unique_sig_time_alpha[0][-1]])\n",
    "\n",
    "    plt.savefig(f'Alpha_{plot_title}_plot.svg')\n",
    "\n",
    "\n",
    "    #Beta Plot\n",
    "\n",
    "    # Plot mean alpha values for push condition with shaded region\n",
    "    plt.figure(figsize=(9, 5))\n",
    "    plt.plot(time_vector, vi_beta_push.mean(axis=0), color='#eaafc3', label='Push beta')\n",
    "    plt.fill_between(time_vector,\n",
    "                     vi_beta_push.mean(axis=0) + vi_sem_push_beta,\n",
    "                     vi_beta_push.mean(axis=0) - vi_sem_push_beta,\n",
    "                     color='#eaafc3', alpha=0.4)\n",
    "\n",
    "     # Plot mean beta values for relax condition with shaded region\n",
    "    plt.plot(time_vector, vi_beta_relax.mean(axis=0), color='#cd5d8a', label='Relax beta')\n",
    "    plt.fill_between(time_vector,\n",
    "                     vi_beta_relax.mean(axis=0) + vi_sem_relax_beta,\n",
    "                     vi_beta_relax.mean(axis=0) - vi_sem_relax_beta,\n",
    "                     color='#cd5d8a', alpha=0.4)\n",
    "\n",
    "\n",
    "    # Add a vertical line at a specific time point\n",
    "    plt.axvline(time_vector[128], c='k')\n",
    "\n",
    "    # Add legends to the plot\n",
    "    plt.legend(loc='upper left')\n",
    "    plt.xlabel('Time (s)')\n",
    "    plt.ylabel('BETA')\n",
    "\n",
    "    plt.tight_layout()  # Ensures proper spacing between subplots\n",
    "    plt.savefig(f'Beta_{plot_title}_plot.svg')\n",
    "\n",
    "    bar_height = np.min(vi_beta_relax) * 0.30  # Height of the horizontal bar (5% of max voltage)\n",
    "    for index in unique_sig_time_beta[0]:\n",
    "        plt.barh(np.min(vi_beta_relax), width=0.005, left=time_vector[tstart_idx+index-1], height=bar_height, color='green', alpha=0.2)\n",
    "    \n",
    "    print(time_vector[tstart_idx+unique_sig_time_beta[0][0]], time_vector[tstart_idx+unique_sig_time_beta[0][-1]])\n",
    "\n",
    "    # Display the plot\n",
    "    plt.show()\n",
    "\n"
   ]
  },
  {
   "cell_type": "markdown",
   "metadata": {},
   "source": [
    "### Plot for Positively Charged Stimuli"
   ]
  },
  {
   "cell_type": "code",
   "execution_count": null,
   "metadata": {},
   "outputs": [],
   "source": [
    "# Print plots\n",
    "unique_sig_time_alpha_pos, unique_sig_time_beta_pos, alpha_ch_pos, beta_ch_pos = process_statsmatrix(statsmatrix_positive)\n",
    "plot_conditions(positive_relax, positive_push, 'Positive', unique_sig_time_alpha_pos, unique_sig_time_beta_pos, alpha_ch_pos, beta_ch_pos)\n",
    "\n",
    "np.save('../../data/Osheen_TF_data/unique_sig_time_alpha_pos.npy', unique_sig_time_alpha_pos)\n",
    "np.save('../../data/Osheen_TF_data/unique_sig_time_beta_pos.npy', unique_sig_time_beta_pos)\n",
    "np.save('../../data/Osheen_TF_data/alpha_ch_pos.npy', alpha_ch_pos)\n",
    "np.save('../../data/Osheen_TF_data/beta_ch_pos.npy', beta_ch_pos)\n"
   ]
  },
  {
   "cell_type": "markdown",
   "metadata": {},
   "source": [
    "### Plot for Negatively Charged Stimuli"
   ]
  },
  {
   "cell_type": "code",
   "execution_count": null,
   "metadata": {},
   "outputs": [],
   "source": [
    "unique_sig_time_alpha_neg, unique_sig_time_beta_neg, alpha_ch_neg, beta_ch_neg = process_statsmatrix(statsmatrix_negative)\n",
    "plot_conditions(negative_relax, negative_push, 'Negative', unique_sig_time_alpha_neg, unique_sig_time_beta_neg, alpha_ch_neg, beta_ch_neg)\n",
    "\n",
    "np.save('../../data/Osheen_TF_data/unique_sig_time_alpha_neg.npy', unique_sig_time_alpha_neg)\n",
    "np.save('../../data/Osheen_TF_data/unique_sig_time_beta_neg.npy', unique_sig_time_beta_neg)\n",
    "np.save('../../data/Osheen_TF_data/alpha_ch_neg.npy', alpha_ch_neg)\n",
    "np.save('../../data/Osheen_TF_data/beta_ch_neg.npy', beta_ch_neg)"
   ]
  },
  {
   "cell_type": "markdown",
   "metadata": {},
   "source": [
    "### Plot for Neutrally Charged Stimuli"
   ]
  },
  {
   "cell_type": "code",
   "execution_count": null,
   "metadata": {},
   "outputs": [],
   "source": [
    "unique_sig_time_alpha_neu, unique_sig_time_beta_neu, alpha_ch_neu, beta_ch_neu = process_statsmatrix(statsmatrix_neutral)\n",
    "plot_conditions(neutral_relax, neutral_push, 'Neutral', unique_sig_time_alpha_neu, unique_sig_time_beta_neu, alpha_ch_neu, beta_ch_neu)\n",
    "\n",
    "np.save('../../data/Osheen_TF_data/unique_sig_time_alpha_neu.npy', unique_sig_time_alpha_neu)\n",
    "np.save('../../data/Osheen_TF_data/unique_sig_time_beta_neu.npy', unique_sig_time_beta_neu)\n",
    "np.save('../../data/Osheen_TF_data/alpha_ch_neu.npy', alpha_ch_neu)\n",
    "np.save('../../data/Osheen_TF_data/beta_ch_neu.npy', beta_ch_neu)"
   ]
  }
 ],
 "metadata": {
  "kernelspec": {
   "display_name": "Python 3 (ipykernel)",
   "language": "python",
   "name": "python3"
  },
  "language_info": {
   "codemirror_mode": {
    "name": "ipython",
    "version": 3
   },
   "file_extension": ".py",
   "mimetype": "text/x-python",
   "name": "python",
   "nbconvert_exporter": "python",
   "pygments_lexer": "ipython3",
   "version": "3.10.9"
  },
  "vscode": {
   "interpreter": {
    "hash": "faaf0e7bf9a379e9bda35f73f64ea7f91eb94ee6c7d1154a01c68afd2a70e8f3"
   }
  }
 },
 "nbformat": 4,
 "nbformat_minor": 2
}
